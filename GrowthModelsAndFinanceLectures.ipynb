{
 "cells": [
  {
   "cell_type": "code",
   "execution_count": 1,
   "metadata": {},
   "outputs": [],
   "source": [
    "import numpy as np\n",
    "from matplotlib import pyplot as plt\n",
    "import math\n",
    "from sympy import *\n",
    "init_printing()"
   ]
  },
  {
   "cell_type": "markdown",
   "metadata": {},
   "source": [
    "![title](https://encrypted-tbn0.gstatic.com/images?q=tbn:ANd9GcTnckDYbeTb2T8_xBI46WAEajS_3IZMY1frutUDEFwRivqayUyU)"
   ]
  },
  {
   "cell_type": "markdown",
   "metadata": {},
   "source": [
    "What is Carrying Capacity?\n",
    "\n",
    "Exponential growth has each generation grown at a rate $r$: \n",
    "$$P_n = P_{n-1} + r P_{n-1}$$\n",
    "\n",
    "$$P_n = P_{n-1} +  \\color{red}{r\\Big(1 - \\frac{P_{n-1}}{K}\\Big)} P_{n-1}  $$\n",
    "\n",
    "If you set $K x_n = P_{n}$ $\\implies$ $x_{n} = rx_{n-1}(1-x_{n-1})$, recovering the model we discussed last class."
   ]
  },
  {
   "cell_type": "code",
   "execution_count": 2,
   "metadata": {},
   "outputs": [],
   "source": [
    "def logistic1(x, r, K):\n",
    "    return x + r * (1 - x / K) * x"
   ]
  },
  {
   "cell_type": "code",
   "execution_count": 25,
   "metadata": {},
   "outputs": [
    {
     "data": {
      "image/png": "[encoded data removed]",
      "text/latex": [
       "$$687.5$$"
      ],
      "text/plain": [
       "687.5"
      ]
     },
     "execution_count": 25,
     "metadata": {},
     "output_type": "execute_result"
    }
   ],
   "source": [
    "logistic1(500., .5, 2000.)\n"
   ]
  },
  {
   "cell_type": "code",
   "execution_count": 26,
   "metadata": {},
   "outputs": [
    {
     "data": {
      "image/png": "[encoded data removed]",
      "text/latex": [
       "$$1250.0$$"
      ],
      "text/plain": [
       "1250.0"
      ]
     },
     "execution_count": 26,
     "metadata": {},
     "output_type": "execute_result"
    }
   ],
   "source": [
    "logistic1(5000., .5, 2000.)"
   ]
  },
  {
   "cell_type": "code",
   "execution_count": 27,
   "metadata": {
    "scrolled": false
   },
   "outputs": [
    {
     "name": "stdout",
     "output_type": "stream",
     "text": [
      "[5500.0, 688.0, 913.0, 1161.0, 1405.0, 1614.0, 1770.0, 1872.0, 1932.0, 1965.0, 1982.0, 1991.0, 1995.0, 1998.0, 1999.0, 1999.0, 2000.0, 2000.0, 2000.0, 2000.0]\n"
     ]
    },
    {
     "data": {
      "image/png": "[encoded data removed]",
      "text/plain": [
       "<matplotlib.figure.Figure at 0x7f3ae828e390>"
      ]
     },
     "metadata": {},
     "output_type": "display_data"
    }
   ],
   "source": [
    "#x = 500\n",
    "#x = 4500\n",
    "x = 5500.\n",
    "#x = 6000\n",
    "\n",
    "rng = np.arange(1, 21)\n",
    "h = []\n",
    "for ii in rng:\n",
    "    h.append(x)\n",
    "    x = logistic1(x, .5, 2000.)\n",
    "\n",
    "print([round(z) for z in h])\n",
    "\n",
    "#rng = rng.insert(rng,0,0)\n",
    "plt.plot(rng-1, h)\n",
    "plt.show()"
   ]
  },
  {
   "cell_type": "code",
   "execution_count": 28,
   "metadata": {},
   "outputs": [
    {
     "data": {
      "image/png": "[encoded data removed]",
      "text/latex": [
       "$$-10000.0$$"
      ],
      "text/plain": [
       "-10000.0"
      ]
     },
     "execution_count": 28,
     "metadata": {},
     "output_type": "execute_result"
    }
   ],
   "source": [
    "logistic1(10000., .5, 2000.)"
   ]
  },
  {
   "cell_type": "markdown",
   "metadata": {},
   "source": [
    "What is Cancer?  What about human over-population?"
   ]
  },
  {
   "cell_type": "markdown",
   "metadata": {},
   "source": [
    "Simple Interest:    $\\color{blue}{I = P_0 r t}$\n",
    "    $$A = P_0 + I = P_0 + \\color{red}{P_0 r t} = P_0(1 + r t)$$"
   ]
  },
  {
   "cell_type": "code",
   "execution_count": 29,
   "metadata": {},
   "outputs": [],
   "source": [
    "def simple_interest(P_0, r, t):\n",
    "    interest = P_0 * r * t\n",
    "    amt = interest + P_0\n",
    "    return interest, amt"
   ]
  },
  {
   "cell_type": "code",
   "execution_count": 30,
   "metadata": {},
   "outputs": [
    {
     "data": {
      "image/png": "[encoded data removed]",
      "text/latex": [
       "$$\\left ( 50.0, \\quad 60.0\\right )$$"
      ],
      "text/plain": [
       "(50.0, 60.0)"
      ]
     },
     "execution_count": 30,
     "metadata": {},
     "output_type": "execute_result"
    }
   ],
   "source": [
    "simple_interest(10, .1, 50)"
   ]
  },
  {
   "cell_type": "code",
   "execution_count": 31,
   "metadata": {},
   "outputs": [
    {
     "data": {
      "image/png": "[encoded data removed]",
      "text/latex": [
       "$$0.00833333333333$$"
      ],
      "text/plain": [
       "0.00833333333333"
      ]
     },
     "execution_count": 31,
     "metadata": {},
     "output_type": "execute_result"
    }
   ],
   "source": [
    ".1/12"
   ]
  },
  {
   "cell_type": "markdown",
   "metadata": {},
   "source": [
    "Compound Interest:  With $A_0$ being the initial amount borrowed, R the interest rate per period, e.g. R = 0.1, $$A_n = A_{n-1} + R A_{n-1}$$\n",
    "\n",
    "For a yearly interest rate $r$, but $k$ compounding periods per yr, $$R = \\frac{r}{k}$$\n",
    "\n",
    "$$A_n = A_{n-1} + \\color{red}{\\frac{r}{k}} A_{n-1}$$\n",
    "\n",
    "$$A_n = \\color{red}{1}A_{n-1} + \\color{red}{\\frac{r}{k}} A_{n-1}$$\n",
    "\n",
    "$$A_n = A_{n-1} \\Big(1 + \\frac{r}{k} \\Big)$$\n",
    "\n",
    "Solving for non-recursive version:\n",
    "\n",
    "$$A_n = A_{0} \\Big(1 + \\frac{r}{k} \\Big)^n$$\n",
    "\n",
    "Let $P_N$ be the balance after $N$ years, then\n",
    "\n",
    "$$n = N k$$  and     \n",
    "\n",
    "$$A_{N k} = P_N =  P_{0} \\Big(1 + \\frac{r}{k} \\Big)^{Nk}$$\n",
    "As $k  \\to \\infty$, $$P(t) =  P_0 e^{rt}$$"
   ]
  },
  {
   "cell_type": "code",
   "execution_count": 32,
   "metadata": {},
   "outputs": [],
   "source": [
    "def compound_interest(P_0, r, N, k):\n",
    "    return P_0 * (1 + r / k)**(N*k)"
   ]
  },
  {
   "cell_type": "code",
   "execution_count": 33,
   "metadata": {},
   "outputs": [
    {
     "data": {
      "image/png": "[encoded data removed]",
      "text/latex": [
       "$$344.58039077$$"
      ],
      "text/plain": [
       "344.58039077"
      ]
     },
     "execution_count": 33,
     "metadata": {},
     "output_type": "execute_result"
    }
   ],
   "source": [
    "compound_interest(100., .25, 5., 12.)"
   ]
  },
  {
   "cell_type": "code",
   "execution_count": 34,
   "metadata": {},
   "outputs": [],
   "source": [
    "def continous_interest(P_0, r, t):\n",
    "    return P_0 * math.exp(r*t)"
   ]
  },
  {
   "cell_type": "code",
   "execution_count": 35,
   "metadata": {},
   "outputs": [
    {
     "data": {
      "image/png": "[encoded data removed]",
      "text/latex": [
       "$$349.034295746$$"
      ],
      "text/plain": [
       "349.034295746"
      ]
     },
     "execution_count": 35,
     "metadata": {},
     "output_type": "execute_result"
    }
   ],
   "source": [
    "continous_interest(100., .25, 5.)"
   ]
  },
  {
   "cell_type": "markdown",
   "metadata": {},
   "source": [
    "Solve effective continuous rate for $r = .15$ compounded yearly $k = 1$.\n",
    "\n",
    "$$P_{0} \\Big(1 + \\frac{r}{k} \\Big)^{Nk} = P_0 e^{r_2 t}$$\n",
    "\n",
    "$$\\Big(1 + \\frac{\\color{red}{.15}}{\\color{red}{1}} \\Big)^{N\\color{red}{1}} = e^{r_2 t}$$\n",
    "\n",
    "$$\\color{red}{\\log\\Big(}\\Big(1.15 \\Big)^{N}\\color{red}{\\Big)} = \\color{red}{\\log\\Big(}e^{r_2 t}\\color{red}{\\Big)}$$\n",
    "$$N \\log\\Big(1.15 \\Big) = r_2 t$$\n",
    "\n",
    "$N = t$, so,\n",
    "$$\\color{red}{t} \\log\\Big(1.15 \\Big) = r_2 t$$\n",
    "\n",
    "Cancel off $t$,\n",
    "$$\\log\\Big(1.15 \\Big) = r_2$$\n",
    "\n",
    "In general, for $r$ compounding continuously, and log is the natural log, $$\\log\\Big(1 + APY \\Big) = r$$"
   ]
  },
  {
   "cell_type": "code",
   "execution_count": 36,
   "metadata": {},
   "outputs": [
    {
     "data": {
      "image/png": "[encoded data removed]",
      "text/latex": [
       "$$0.139761942375$$"
      ],
      "text/plain": [
       "0.139761942375"
      ]
     },
     "execution_count": 36,
     "metadata": {},
     "output_type": "execute_result"
    }
   ],
   "source": [
    "math.log(1.15) # natural log on calculators is ln"
   ]
  },
  {
   "cell_type": "markdown",
   "metadata": {},
   "source": [
    "How rich would you be investing $5000 at 2% interest for 45 years?"
   ]
  },
  {
   "cell_type": "code",
   "execution_count": 38,
   "metadata": {},
   "outputs": [
    {
     "data": {
      "image/png": "[encoded data removed]",
      "text/latex": [
       "$$12298.0155558$$"
      ],
      "text/plain": [
       "12298.0155558"
      ]
     },
     "execution_count": 38,
     "metadata": {},
     "output_type": "execute_result"
    }
   ],
   "source": [
    "continous_interest(5000., .02, 45.)"
   ]
  },
  {
   "cell_type": "markdown",
   "metadata": {},
   "source": [
    "Not so fast! Inflation averages 3.22%"
   ]
  },
  {
   "cell_type": "code",
   "execution_count": 39,
   "metadata": {},
   "outputs": [
    {
     "data": {
      "image/png": "[encoded data removed]",
      "text/latex": [
       "$$4528.71354012$$"
      ],
      "text/plain": [
       "4528.71354012"
      ]
     },
     "execution_count": 39,
     "metadata": {},
     "output_type": "execute_result"
    }
   ],
   "source": [
    "continous_interest(5000., -.0022, 45.)"
   ]
  },
  {
   "cell_type": "markdown",
   "metadata": {},
   "source": [
    "Annuities:\n",
    "\n",
    "$$P = \\frac{d[(1+\\frac{r}{k})^{Nk} - 1]}{r/k}$$"
   ]
  },
  {
   "cell_type": "code",
   "execution_count": 40,
   "metadata": {},
   "outputs": [],
   "source": [
    "def annuity(r, k, N, d):\n",
    "    return d * k * ((1 + r / k) ** (N * k) - 1) / r"
   ]
  },
  {
   "cell_type": "code",
   "execution_count": 41,
   "metadata": {},
   "outputs": [
    {
     "data": {
      "image/png": "[encoded data removed]",
      "text/latex": [
       "$$1468871.24927$$"
      ],
      "text/plain": [
       "1468871.24927"
      ]
     },
     "execution_count": 41,
     "metadata": {},
     "output_type": "execute_result"
    }
   ],
   "source": [
    "ret = annuity(r=.02, k=12, N=40, d=2000)\n",
    "ret"
   ]
  },
  {
   "cell_type": "code",
   "execution_count": 42,
   "metadata": {},
   "outputs": [
    {
     "data": {
      "image/png": "[encoded data removed]",
      "text/latex": [
       "$$405146.822936$$"
      ],
      "text/plain": [
       "405146.822936"
      ]
     },
     "execution_count": 42,
     "metadata": {},
     "output_type": "execute_result"
    }
   ],
   "source": [
    "ret*math.exp(-.0322*40)"
   ]
  },
  {
   "cell_type": "markdown",
   "metadata": {},
   "source": [
    "Payout Annuities:\n",
    "\n",
    "$$P = \\frac{d[1-(1+\\frac{r}{k})^{-Nk}]}{r/k}$$"
   ]
  },
  {
   "cell_type": "code",
   "execution_count": 43,
   "metadata": {},
   "outputs": [],
   "source": [
    "def payout_annuity(r, k, N, d):\n",
    "    return d * k * (1 - (1 + r / k) ** (-N * k)) / r"
   ]
  },
  {
   "cell_type": "code",
   "execution_count": 44,
   "metadata": {},
   "outputs": [
    {
     "data": {
      "image/png": "[encoded data removed]",
      "text/latex": [
       "$$494185.087116$$"
      ],
      "text/plain": [
       "494185.087116"
      ]
     },
     "execution_count": 44,
     "metadata": {},
     "output_type": "execute_result"
    }
   ],
   "source": [
    "payout_annuity(r=.02, k=12, N=20, d=2500)"
   ]
  },
  {
   "cell_type": "markdown",
   "metadata": {},
   "source": [
    "Suppose you'll have 500000 to retire, and you need 3000 / month. With a 6% interest rate compounding monthly, how long will it last?\n",
    "\n",
    "$$P_0 = \\frac{d[1-(1+\\frac{r}{k})^{-Nk}]}{r/k}$$\n",
    "$$\\color{red}{500000} = \\frac{\\color{red}{3000}[1-(1+\\color{red}{\\frac{.06}{12}})^{-N\\color{red}{12}}]}{\\color{red}{.06/12}}$$\n",
    "\n",
    "Solve for $N$:\n",
    "\n",
    "$$500000 = 600000[1-(1.005)^{-N12}]$$\n",
    "\n",
    "$$\\frac{5}{6} = 1-(1.005)^{-N12}$$\n",
    "\n",
    "$$\\frac{5}{6} -1 = -(1.005)^{-N12}$$\n",
    "\n",
    "$$\\frac{-5}{6} +1 = (1.005)^{-N12}$$\n",
    "\n",
    "$$\\frac{1}{6} = 1.0616778^{-N}$$\n",
    "\n",
    "\n",
    "$$\\color{red}{\\log\\Big(}\\frac{1}{6}\\color{red}{\\Big)} = \\color{red}{\\log(}1.0616778^{-N}\\color{red}{)}$$\n",
    "\n",
    "$$-1.791759 = -N\\log(1.0616778)$$\n",
    "\n",
    "$$-1.791759 = -N0.0599$$\n",
    "\n",
    "$$-1.791759/(-0.0599) = N$$"
   ]
  },
  {
   "cell_type": "code",
   "execution_count": 45,
   "metadata": {},
   "outputs": [
    {
     "data": {
      "image/png": "[encoded data removed]",
      "text/latex": [
       "$$-1.79175946923$$"
      ],
      "text/plain": [
       "-1.79175946923"
      ]
     },
     "execution_count": 45,
     "metadata": {},
     "output_type": "execute_result"
    }
   ],
   "source": [
    "math.log(1./6)"
   ]
  },
  {
   "cell_type": "code",
   "execution_count": 46,
   "metadata": {},
   "outputs": [
    {
     "name": "stdout",
     "output_type": "stream",
     "text": [
      "(-1.791759469228055, -0.059850498132467664)\n"
     ]
    },
    {
     "data": {
      "image/png": "[encoded data removed]",
      "text/latex": [
       "$$29.9372524062$$"
      ],
      "text/plain": [
       "29.9372524062"
      ]
     },
     "execution_count": 46,
     "metadata": {},
     "output_type": "execute_result"
    }
   ],
   "source": [
    "x=math.log(1./6)\n",
    "y=-math.log(1.005**12)\n",
    "print(x,y)\n",
    "x/y"
   ]
  },
  {
   "cell_type": "markdown",
   "metadata": {},
   "source": [
    "Loans Formula (It's the same as a payout annuity. Why?)\n",
    "\n",
    "$$P_0 = \\frac{d[1-(1+\\frac{r}{k})^{-Nk}]}{r/k}$$"
   ]
  },
  {
   "cell_type": "code",
   "execution_count": 47,
   "metadata": {},
   "outputs": [],
   "source": [
    "loans = payout_annuity"
   ]
  },
  {
   "cell_type": "code",
   "execution_count": 48,
   "metadata": {},
   "outputs": [
    {
     "data": {
      "image/png": "[encoded data removed]",
      "text/latex": [
       "$$296511.05227$$"
      ],
      "text/plain": [
       "296511.05227"
      ]
     },
     "execution_count": 48,
     "metadata": {},
     "output_type": "execute_result"
    }
   ],
   "source": [
    "loans(r=.02, k=12, N=20, d=1500)"
   ]
  },
  {
   "cell_type": "markdown",
   "metadata": {},
   "source": [
    "As rates go up, what happens to home prices?"
   ]
  },
  {
   "cell_type": "code",
   "execution_count": 49,
   "metadata": {},
   "outputs": [
    {
     "data": {
      "image/png": "[encoded data removed]",
      "text/plain": [
       "<matplotlib.figure.Figure at 0x7f3ae8d9e290>"
      ]
     },
     "metadata": {},
     "output_type": "display_data"
    }
   ],
   "source": [
    "rates = np.arange(.01, .2, .01)\n",
    "afford = [loans(r=r, k=12, N=30, d=1500) for r in rates]    \n",
    "plt.plot(rates, afford)\n",
    "plt.show()"
   ]
  },
  {
   "cell_type": "markdown",
   "metadata": {},
   "source": [
    "What's the monthly payment for a home loan if $r=.05$, $k=12$, $N=30$, and $P_0 = 300000$?\n",
    "\n",
    "$$P_0 = \\frac{d[1-(1+\\frac{r}{k})^{-Nk}]}{r/k}$$\n",
    "\n",
    "$$300000 = \\frac{d[1-(1+\\frac{.05}{12})^{-30 * 12}]}{.05/12}$$\n",
    "\n",
    "$$300000 = d * 186.281617$$\n",
    "\n",
    "$$d=1610.46$$"
   ]
  },
  {
   "cell_type": "code",
   "execution_count": 50,
   "metadata": {},
   "outputs": [
    {
     "name": "stdout",
     "output_type": "stream",
     "text": [
      "126.455242706\n",
      "2372.38088022\n"
     ]
    }
   ],
   "source": [
    "mortgage_term = 15\n",
    "rate = .05\n",
    "x = (1 - (1 + rate / 12)**(-mortgage_term * 12)) / (rate / 12)\n",
    "d = 300000 / x\n",
    "print(x)\n",
    "print(d)"
   ]
  },
  {
   "cell_type": "markdown",
   "metadata": {},
   "source": [
    "Total cost overall:"
   ]
  },
  {
   "cell_type": "code",
   "execution_count": 51,
   "metadata": {},
   "outputs": [
    {
     "data": {
      "image/png": "[encoded data removed]",
      "text/latex": [
       "$$427028.55844$$"
      ],
      "text/plain": [
       "427028.55844"
      ]
     },
     "execution_count": 51,
     "metadata": {},
     "output_type": "execute_result"
    }
   ],
   "source": [
    "d * mortgage_term * 12"
   ]
  },
  {
   "cell_type": "markdown",
   "metadata": {},
   "source": [
    "Adjust for inflation?"
   ]
  },
  {
   "cell_type": "code",
   "execution_count": 52,
   "metadata": {},
   "outputs": [],
   "source": [
    "P_0, d, r, k, N = symbols('P_0, d, r, k, N')"
   ]
  },
  {
   "cell_type": "code",
   "execution_count": 53,
   "metadata": {},
   "outputs": [
    {
     "data": {
      "image/png": "[encoded data removed]",
      "text/latex": [
       "$$\\frac{P_{0} r \\left(\\frac{1}{k} \\left(k + r\\right)\\right)^{N k}}{k \\left(\\left(\\frac{1}{k} \\left(k + r\\right)\\right)^{N k} - 1\\right)}$$"
      ],
      "text/plain": [
       "             N⋅k  \n",
       "      ⎛k + r⎞     \n",
       " P₀⋅r⋅⎜─────⎟     \n",
       "      ⎝  k  ⎠     \n",
       "──────────────────\n",
       "  ⎛       N⋅k    ⎞\n",
       "  ⎜⎛k + r⎞       ⎟\n",
       "k⋅⎜⎜─────⎟    - 1⎟\n",
       "  ⎝⎝  k  ⎠       ⎠"
      ]
     },
     "execution_count": 53,
     "metadata": {},
     "output_type": "execute_result"
    }
   ],
   "source": [
    "expr = solve(d * (1 - (1 + r / k)**(-N * k)) / ( r / k) - P_0, d)[0]\n",
    "expr"
   ]
  },
  {
   "cell_type": "code",
   "execution_count": 54,
   "metadata": {},
   "outputs": [
    {
     "data": {
      "image/png": "[encoded data removed]",
      "text/latex": [
       "$$993.282151625599$$"
      ],
      "text/plain": [
       "993.282151625599"
      ]
     },
     "execution_count": 54,
     "metadata": {},
     "output_type": "execute_result"
    }
   ],
   "source": [
    "# Try various rates\n",
    "#rt = .02\n",
    "#rt = .03\n",
    "#rt = .05\n",
    "rt = .057\n",
    "#rt = .12\n",
    "#rt = .16\n",
    "mortgage_term = 15\n",
    "loan = 120000\n",
    "pmt = expr.subs([(r, rt), (k, 12), (N, mortgage_term), (P_0, loan)])\n",
    "pmt"
   ]
  },
  {
   "cell_type": "code",
   "execution_count": 57,
   "metadata": {},
   "outputs": [
    {
     "name": "stdout",
     "output_type": "stream",
     "text": [
      "('Total borrowed: $', 120000)\n",
      "('Total projected inflation adjusted cost: $', 141990.36)\n",
      "('Total non-adjusted cost: $', 178790.79)\n",
      "('Total inflation adjusted interest paid: $', 21990.36)\n",
      "('Percent more paid (adjusted): ', 18.325, '%')\n"
     ]
    },
    {
     "data": {
      "image/png": "[encoded data removed]",
      "text/plain": [
       "<matplotlib.figure.Figure at 0x7f3ae828e290>"
      ]
     },
     "metadata": {},
     "output_type": "display_data"
    },
    {
     "data": {
      "image/png": "[encoded data removed]",
      "text/latex": [
       "$$\\left [ 993.28, \\quad 990.62, \\quad 987.97, \\quad 985.32, \\quad 982.68, \\quad 980.04, \\quad 977.42, \\quad 974.8, \\quad 972.19, \\quad 969.58, \\quad 966.98, \\quad 964.39, \\quad 961.81, \\quad 959.23, \\quad 956.66, \\quad 954.1, \\quad 951.54, \\quad 948.99, \\quad 946.45, \\quad 943.91, \\quad 941.38, \\quad 938.86, \\quad 936.34, \\quad 933.83, \\quad 931.33, \\quad 928.84, \\quad 926.35, \\quad 923.86, \\quad 921.39, \\quad 918.92, \\quad 916.46, \\quad 914.0, \\quad 911.55, \\quad 909.11, \\quad 906.67, \\quad 904.24, \\quad 901.82, \\quad 899.4, \\quad 896.99, \\quad 894.59, \\quad 892.19, \\quad 889.8, \\quad 887.42, \\quad 885.04, \\quad 882.67, \\quad 880.3, \\quad 877.94, \\quad 875.59, \\quad 873.24, \\quad 870.9, \\quad 868.57, \\quad 866.24, \\quad 863.92, \\quad 861.61, \\quad 859.3, \\quad 856.99, \\quad 854.7, \\quad 852.41, \\quad 850.12, \\quad 847.85, \\quad 845.57, \\quad 843.31, \\quad 841.05, \\quad 838.79, \\quad 836.55, \\quad 834.3, \\quad 832.07, \\quad 829.84, \\quad 827.62, \\quad 825.4, \\quad 823.19, \\quad 820.98, \\quad 818.78, \\quad 816.59, \\quad 814.4, \\quad 812.21, \\quad 810.04, \\quad 807.87, \\quad 805.7, \\quad 803.54, \\quad 801.39, \\quad 799.24, \\quad 797.1, \\quad 794.97, \\quad 792.83, \\quad 790.71, \\quad 788.59, \\quad 786.48, \\quad 784.37, \\quad 782.27, \\quad 780.17, \\quad 778.08, \\quad 776.0, \\quad 773.92, \\quad 771.84, \\quad 769.77, \\quad 767.71, \\quad 765.65, \\quad 763.6, \\quad 761.56, \\quad 759.52, \\quad 757.48, \\quad 755.45, \\quad 753.43, \\quad 751.41, \\quad 749.39, \\quad 747.39, \\quad 745.38, \\quad 743.39, \\quad 741.39, \\quad 739.41, \\quad 737.43, \\quad 735.45, \\quad 733.48, \\quad 731.51, \\quad 729.55, \\quad 727.6, \\quad 725.65, \\quad 723.7, \\quad 721.76, \\quad 719.83, \\quad 717.9, \\quad 715.98, \\quad 714.06, \\quad 712.14, \\quad 710.24, \\quad 708.33, \\quad 706.44, \\quad 704.54, \\quad 702.65, \\quad 700.77, \\quad 698.89, \\quad 697.02, \\quad 695.15, \\quad 693.29, \\quad 691.43, \\quad 689.58, \\quad 687.73, \\quad 685.89, \\quad 684.05, \\quad 682.22, \\quad 680.39, \\quad 678.57, \\quad 676.75, \\quad 674.93, \\quad 673.13, \\quad 671.32, \\quad 669.52, \\quad 667.73, \\quad 665.94, \\quad 664.15, \\quad 662.37, \\quad 660.6, \\quad 658.83, \\quad 657.06, \\quad 655.3, \\quad 653.55, \\quad 651.8, \\quad 650.05, \\quad 648.31, \\quad 646.57, \\quad 644.84, \\quad 643.11, \\quad 641.39, \\quad 639.67, \\quad 637.95, \\quad 636.24, \\quad 634.54, \\quad 632.84, \\quad 631.14, \\quad 629.45, \\quad 627.76, \\quad 626.08, \\quad 624.4, \\quad 622.73, \\quad 621.06, \\quad 619.4, \\quad 617.74, \\quad 616.08, \\quad 614.43\\right ]$$"
      ],
      "text/plain": [
       "[993.28, 990.62, 987.97, 985.32, 982.68, 980.04, 977.42, 974.8, 972.19, 969.58\n",
       ", 966.98, 964.39, 961.81, 959.23, 956.66, 954.1, 951.54, 948.99, 946.45, 943.9\n",
       "1, 941.38, 938.86, 936.34, 933.83, 931.33, 928.84, 926.35, 923.86, 921.39, 918\n",
       ".92, 916.46, 914.0, 911.55, 909.11, 906.67, 904.24, 901.82, 899.4, 896.99, 894\n",
       ".59, 892.19, 889.8, 887.42, 885.04, 882.67, 880.3, 877.94, 875.59, 873.24, 870\n",
       ".9, 868.57, 866.24, 863.92, 861.61, 859.3, 856.99, 854.7, 852.41, 850.12, 847.\n",
       "85, 845.57, 843.31, 841.05, 838.79, 836.55, 834.3, 832.07, 829.84, 827.62, 825\n",
       ".4, 823.19, 820.98, 818.78, 816.59, 814.4, 812.21, 810.04, 807.87, 805.7, 803.\n",
       "54, 801.39, 799.24, 797.1, 794.97, 792.83, 790.71, 788.59, 786.48, 784.37, 782\n",
       ".27, 780.17, 778.08, 776.0, 773.92, 771.84, 769.77, 767.71, 765.65, 763.6, 761\n",
       ".56, 759.52, 757.48, 755.45, 753.43, 751.41, 749.39, 747.39, 745.38, 743.39, 7\n",
       "41.39, 739.41, 737.43, 735.45, 733.48, 731.51, 729.55, 727.6, 725.65, 723.7, 7\n",
       "21.76, 719.83, 717.9, 715.98, 714.06, 712.14, 710.24, 708.33, 706.44, 704.54, \n",
       "702.65, 700.77, 698.89, 697.02, 695.15, 693.29, 691.43, 689.58, 687.73, 685.89\n",
       ", 684.05, 682.22, 680.39, 678.57, 676.75, 674.93, 673.13, 671.32, 669.52, 667.\n",
       "73, 665.94, 664.15, 662.37, 660.6, 658.83, 657.06, 655.3, 653.55, 651.8, 650.0\n",
       "5, 648.31, 646.57, 644.84, 643.11, 641.39, 639.67, 637.95, 636.24, 634.54, 632\n",
       ".84, 631.14, 629.45, 627.76, 626.08, 624.4, 622.73, 621.06, 619.4, 617.74, 616\n",
       ".08, 614.43]"
      ]
     },
     "execution_count": 57,
     "metadata": {},
     "output_type": "execute_result"
    }
   ],
   "source": [
    "avg_inflation = 0.0322 # using geometric mean\n",
    "K = range(12 * mortgage_term)\n",
    "#print(K)\n",
    "all_pmt = [round(continous_interest(pmt, -avg_inflation, m / 12.), 2) for m in K]\n",
    "infl_adj_cost = round(sum(all_pmt), 2)\n",
    "print(\"Total borrowed: $\", loan)\n",
    "print(\"Total projected inflation adjusted cost: $\", infl_adj_cost)\n",
    "print(\"Total non-adjusted cost: $\", round(mortgage_term * 12 * pmt, 2))\n",
    "print(\"Total inflation adjusted interest paid: $\", round(infl_adj_cost - loan, 2))\n",
    "print(\"Percent more paid (adjusted): \", round(100 * (infl_adj_cost - loan) / loan, 3), \"%\")\n",
    "\n",
    "#print(all_pmt)\n",
    "plt.plot(K, all_pmt)\n",
    "\n",
    "plt.show()\n",
    "all_pmt"
   ]
  },
  {
   "cell_type": "code",
   "execution_count": null,
   "metadata": {},
   "outputs": [],
   "source": []
  },
  {
   "cell_type": "code",
   "execution_count": null,
   "metadata": {},
   "outputs": [],
   "source": [
    "# Wealth ineq, utility f, gini"
   ]
  },
  {
   "cell_type": "code",
   "execution_count": null,
   "metadata": {},
   "outputs": [],
   "source": []
  }
 ],
 "metadata": {
  "kernelspec": {
   "display_name": "Python 3",
   "language": "python",
   "name": "python3"
  },
  "language_info": {
   "codemirror_mode": {
    "name": "ipython",
    "version": 2
   },
   "file_extension": ".py",
   "mimetype": "text/x-python",
   "name": "python",
   "nbconvert_exporter": "python",
   "pygments_lexer": "ipython2",
   "version": "2.7.12"
  }
 },
 "nbformat": 4,
 "nbformat_minor": 2
}
