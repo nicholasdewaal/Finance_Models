{
 "cells": [
  {
   "cell_type": "markdown",
   "metadata": {},
   "source": [
    "# Introduction to Statistical Literacy\n",
    "\n",
    "Manage money?  Use statistics!  \n",
    "\n",
    "Why do we need statistical literacy?\n",
    "\n",
    "How can we read the news, and know what's true and what's false? \n",
    "\n",
    "How do we know when a claim is based on science? \n",
    "\n",
    "Check sources, if none, don't believe it. Otherwise, check trustworthiness of source, read what the source/paper says, and know how to interpret the data with statistics.\n",
    "\n",
    "Conspiracy theories. Why are they unlikely to be true?\n",
    "\n",
    "Scientific consensus:  Is this a fallacious appeal to authority?  You can't get a Ph.D in every scientific field; the best option is to trust scientific consensus.\n",
    "\n",
    "    -Climate change  \n",
    "    -GMO's: is organic sustainable or good for environment?  Golden rice: add vitamins, solve starvation\n",
    "    -Vaccines: Saved billions\n",
    "    -Evolution denial\n",
    "    -Supplements\n",
    "    -Flat earthers\n",
    "    -Earth is 6000 years old?  Nope.\n",
    "    \n",
    "Superstition and science denial are dangerous and destructive.\n",
    "\n",
    "Fallacies: post-hoc ergo propter hoc, strawman, red herring.\n",
    "\n",
    "WWII fighters, sharpshooter. \n",
    "\n",
    "How do we delude ourselves?\n",
    "\n",
    "You're not So Smart, Predictibly Irrational\n",
    "\n",
    "Any time you claim something, stop yourself and think carefully, why do you believe what you believe? When you get that reason, ask again why you believe those reasons. It's important to doubt. We delude ourselves way too easily.\n",
    "\n"
   ]
  },
  {
   "cell_type": "code",
   "execution_count": null,
   "metadata": {},
   "outputs": [],
   "source": []
  }
 ],
 "metadata": {
  "kernelspec": {
   "display_name": "Python 3",
   "language": "python",
   "name": "python3"
  },
  "language_info": {
   "codemirror_mode": {
    "name": "ipython",
    "version": 2
   },
   "file_extension": ".py",
   "mimetype": "text/x-python",
   "name": "python",
   "nbconvert_exporter": "python",
   "pygments_lexer": "ipython2",
   "version": "2.7.12"
  }
 },
 "nbformat": 4,
 "nbformat_minor": 2
}
